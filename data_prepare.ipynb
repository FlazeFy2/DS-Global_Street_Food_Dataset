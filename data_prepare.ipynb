{
 "cells": [
  {
   "cell_type": "code",
   "execution_count": 2,
   "id": "42759b97-2c65-4e69-b125-39ba2cf51319",
   "metadata": {},
   "outputs": [
    {
     "name": "stdout",
     "output_type": "stream",
     "text": [
      "Dish Name               object\n",
      "Country                 object\n",
      "Region/City             object\n",
      "Ingredients             object\n",
      "Description             object\n",
      "Cooking Method          object\n",
      "Typical Price (USD)    float64\n",
      "Vegetarian              object\n",
      "dtype: object\n",
      "\n",
      "\n",
      "8 Column\n"
     ]
    }
   ],
   "source": [
    "import pandas as pd\n",
    "import matplotlib.pyplot as plt\n",
    "\n",
    "df = pd.read_csv(\"global_street_food.csv\")\n",
    "\n",
    "# Data Understanding - Variable & Data Type\n",
    "print(df.dtypes)\n",
    "print(\"\\n\")\n",
    "print(f\"{len(df.columns)} Column\")"
   ]
  },
  {
   "cell_type": "code",
   "execution_count": 4,
   "id": "c427eacf-9a4d-42c2-8198-d9f52baf04fa",
   "metadata": {},
   "outputs": [
    {
     "data": {
      "text/plain": [
       "Dish Name              0\n",
       "Country                0\n",
       "Region/City            0\n",
       "Ingredients            0\n",
       "Description            0\n",
       "Cooking Method         0\n",
       "Typical Price (USD)    0\n",
       "Vegetarian             0\n",
       "dtype: int64"
      ]
     },
     "execution_count": 4,
     "metadata": {},
     "output_type": "execute_result"
    }
   ],
   "source": [
    "# Data Preparation - Handle Missing Value\n",
    "df.isnull().sum()"
   ]
  },
  {
   "cell_type": "code",
   "execution_count": 6,
   "id": "066f08e7-cb9f-423b-b4ae-83c75ccc68a0",
   "metadata": {},
   "outputs": [
    {
     "data": {
      "text/html": [
       "<div>\n",
       "<style scoped>\n",
       "    .dataframe tbody tr th:only-of-type {\n",
       "        vertical-align: middle;\n",
       "    }\n",
       "\n",
       "    .dataframe tbody tr th {\n",
       "        vertical-align: top;\n",
       "    }\n",
       "\n",
       "    .dataframe thead th {\n",
       "        text-align: right;\n",
       "    }\n",
       "</style>\n",
       "<table border=\"1\" class=\"dataframe\">\n",
       "  <thead>\n",
       "    <tr style=\"text-align: right;\">\n",
       "      <th></th>\n",
       "      <th>Typical Price (USD)</th>\n",
       "    </tr>\n",
       "  </thead>\n",
       "  <tbody>\n",
       "    <tr>\n",
       "      <th>count</th>\n",
       "      <td>4500.000000</td>\n",
       "    </tr>\n",
       "    <tr>\n",
       "      <th>mean</th>\n",
       "      <td>2.657429</td>\n",
       "    </tr>\n",
       "    <tr>\n",
       "      <th>std</th>\n",
       "      <td>1.358311</td>\n",
       "    </tr>\n",
       "    <tr>\n",
       "      <th>min</th>\n",
       "      <td>0.200000</td>\n",
       "    </tr>\n",
       "    <tr>\n",
       "      <th>25%</th>\n",
       "      <td>1.560000</td>\n",
       "    </tr>\n",
       "    <tr>\n",
       "      <th>50%</th>\n",
       "      <td>2.660000</td>\n",
       "    </tr>\n",
       "    <tr>\n",
       "      <th>75%</th>\n",
       "      <td>3.830000</td>\n",
       "    </tr>\n",
       "    <tr>\n",
       "      <th>max</th>\n",
       "      <td>5.000000</td>\n",
       "    </tr>\n",
       "  </tbody>\n",
       "</table>\n",
       "</div>"
      ],
      "text/plain": [
       "       Typical Price (USD)\n",
       "count          4500.000000\n",
       "mean              2.657429\n",
       "std               1.358311\n",
       "min               0.200000\n",
       "25%               1.560000\n",
       "50%               2.660000\n",
       "75%               3.830000\n",
       "max               5.000000"
      ]
     },
     "execution_count": 6,
     "metadata": {},
     "output_type": "execute_result"
    }
   ],
   "source": [
    "# Data Understanding - Descriptive Statistic\n",
    "df.describe()"
   ]
  },
  {
   "cell_type": "code",
   "execution_count": 8,
   "id": "09841615-f461-4943-8401-ac9cf7dbd2de",
   "metadata": {},
   "outputs": [
    {
     "data": {
      "image/png": "[encoded data removed]",
      "text/plain": [
       "<Figure size 640x480 with 1 Axes>"
      ]
     },
     "metadata": {},
     "output_type": "display_data"
    }
   ],
   "source": [
    "# Data Preparation - Outliers\n",
    "plt.boxplot(df['Typical Price (USD)'])\n",
    "plt.title(f'Boxplot of Typical Price (USD)')\n",
    "plt.show()"
   ]
  },
  {
   "cell_type": "code",
   "execution_count": 10,
   "id": "0270f600-c7e8-435b-92e5-2e92025ea625",
   "metadata": {},
   "outputs": [
    {
     "name": "stdout",
     "output_type": "stream",
     "text": [
      "Index([], dtype='int64')\n"
     ]
    }
   ],
   "source": [
    "# Data Preparation - Invalid Value\n",
    "invalid_value = df[df['Typical Price (USD)'] < 0]\n",
    "print(invalid_value.index)"
   ]
  },
  {
   "cell_type": "code",
   "execution_count": null,
   "id": "28da3422-7f3b-457b-bb85-ce0267a0c6ca",
   "metadata": {},
   "outputs": [],
   "source": []
  }
 ],
 "metadata": {
  "kernelspec": {
   "display_name": "Python [conda env:base] *",
   "language": "python",
   "name": "conda-base-py"
  },
  "language_info": {
   "codemirror_mode": {
    "name": "ipython",
    "version": 3
   },
   "file_extension": ".py",
   "mimetype": "text/x-python",
   "name": "python",
   "nbconvert_exporter": "python",
   "pygments_lexer": "ipython3",
   "version": "3.12.7"
  }
 },
 "nbformat": 4,
 "nbformat_minor": 5
}
